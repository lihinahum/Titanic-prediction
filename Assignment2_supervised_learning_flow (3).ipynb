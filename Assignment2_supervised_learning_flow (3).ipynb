{
 "cells": [
  {
   "cell_type": "markdown",
   "id": "ec202ada",
   "metadata": {},
   "source": [
    "# Assignment2 - Supervised Learning flow"
   ]
  },
  {
   "cell_type": "markdown",
   "id": "b06a2810",
   "metadata": {},
   "source": [
    "### Part 1 - Student details:\n",
    "* Please write the First Name and last 4 digits of the i.d. for each student. For example:\n",
    "<pre>Israel 9812</pre>"
   ]
  },
  {
   "cell_type": "code",
   "execution_count": 1,
   "id": "ca16486b",
   "metadata": {},
   "outputs": [],
   "source": [
    "# student 1: Lihi Nahum 9966\n",
    "# student 2: Asaf Yosef 4322\n",
    "# student 3: Nofit Anchel 1770\n",
    "# student 4:\n",
    "# (optional) student 5:\n",
    "# (optional) student 6:"
   ]
  },
  {
   "cell_type": "markdown",
   "id": "fb36672a",
   "metadata": {},
   "source": [
    "## Part 2 - Experiments\n",
    "You could add as many code cells as needed"
   ]
  },
  {
   "cell_type": "code",
   "execution_count": 2,
   "id": "b7098585",
   "metadata": {},
   "outputs": [],
   "source": [
    "import pandas as pd\n",
    "import seaborn as sns\n",
    "import matplotlib.pyplot as plt\n",
    "from sklearn.preprocessing import MinMaxScaler,StandardScaler, OneHotEncoder\n",
    "from sklearn.compose import ColumnTransformer\n",
    "import numpy as np\n",
    "from sklearn.feature_selection import SelectKBest\n",
    "from sklearn.metrics import f1_score,classification_report\n",
    "from sklearn.ensemble import GradientBoostingClassifier,RandomForestClassifier\n",
    "from sklearn.feature_selection import chi2\n",
    "from sklearn.pipeline import Pipeline\n",
    "from sklearn.model_selection import GridSearchCV, StratifiedKFold\n",
    "from sklearn.neighbors import KNeighborsClassifier\n"
   ]
  },
  {
   "cell_type": "markdown",
   "id": "61d09525",
   "metadata": {},
   "source": [
    "loading the csv files into data frames and show 5 first rows of each data frame."
   ]
  },
  {
   "cell_type": "code",
   "execution_count": 3,
   "id": "097afb02",
   "metadata": {},
   "outputs": [
    {
     "data": {
      "text/html": [
       "<div>\n",
       "<style scoped>\n",
       "    .dataframe tbody tr th:only-of-type {\n",
       "        vertical-align: middle;\n",
       "    }\n",
       "\n",
       "    .dataframe tbody tr th {\n",
       "        vertical-align: top;\n",
       "    }\n",
       "\n",
       "    .dataframe thead th {\n",
       "        text-align: right;\n",
       "    }\n",
       "</style>\n",
       "<table border=\"1\" class=\"dataframe\">\n",
       "  <thead>\n",
       "    <tr style=\"text-align: right;\">\n",
       "      <th></th>\n",
       "      <th>Pclass</th>\n",
       "      <th>Sex</th>\n",
       "      <th>Age</th>\n",
       "      <th>SibSp</th>\n",
       "      <th>Parch</th>\n",
       "      <th>Fare</th>\n",
       "      <th>Embarked</th>\n",
       "      <th>Survived</th>\n",
       "    </tr>\n",
       "  </thead>\n",
       "  <tbody>\n",
       "    <tr>\n",
       "      <th>0</th>\n",
       "      <td>1</td>\n",
       "      <td>0</td>\n",
       "      <td>54.0</td>\n",
       "      <td>1</td>\n",
       "      <td>0</td>\n",
       "      <td>78.2667</td>\n",
       "      <td>1</td>\n",
       "      <td>1</td>\n",
       "    </tr>\n",
       "    <tr>\n",
       "      <th>1</th>\n",
       "      <td>2</td>\n",
       "      <td>0</td>\n",
       "      <td>45.0</td>\n",
       "      <td>0</td>\n",
       "      <td>0</td>\n",
       "      <td>13.5000</td>\n",
       "      <td>0</td>\n",
       "      <td>1</td>\n",
       "    </tr>\n",
       "    <tr>\n",
       "      <th>2</th>\n",
       "      <td>3</td>\n",
       "      <td>1</td>\n",
       "      <td>20.0</td>\n",
       "      <td>0</td>\n",
       "      <td>0</td>\n",
       "      <td>9.5000</td>\n",
       "      <td>0</td>\n",
       "      <td>0</td>\n",
       "    </tr>\n",
       "    <tr>\n",
       "      <th>3</th>\n",
       "      <td>3</td>\n",
       "      <td>1</td>\n",
       "      <td>36.0</td>\n",
       "      <td>0</td>\n",
       "      <td>0</td>\n",
       "      <td>7.8958</td>\n",
       "      <td>0</td>\n",
       "      <td>0</td>\n",
       "    </tr>\n",
       "    <tr>\n",
       "      <th>4</th>\n",
       "      <td>3</td>\n",
       "      <td>1</td>\n",
       "      <td>22.0</td>\n",
       "      <td>0</td>\n",
       "      <td>0</td>\n",
       "      <td>8.0500</td>\n",
       "      <td>0</td>\n",
       "      <td>0</td>\n",
       "    </tr>\n",
       "  </tbody>\n",
       "</table>\n",
       "</div>"
      ],
      "text/plain": [
       "   Pclass  Sex   Age  SibSp  Parch     Fare  Embarked  Survived\n",
       "0       1    0  54.0      1      0  78.2667         1         1\n",
       "1       2    0  45.0      0      0  13.5000         0         1\n",
       "2       3    1  20.0      0      0   9.5000         0         0\n",
       "3       3    1  36.0      0      0   7.8958         0         0\n",
       "4       3    1  22.0      0      0   8.0500         0         0"
      ]
     },
     "execution_count": 3,
     "metadata": {},
     "output_type": "execute_result"
    }
   ],
   "source": [
    "train_df = pd.read_csv('titanic_train.csv')\n",
    "train_df.head()"
   ]
  },
  {
   "cell_type": "code",
   "execution_count": 4,
   "id": "fa71940e",
   "metadata": {},
   "outputs": [
    {
     "data": {
      "text/html": [
       "<div>\n",
       "<style scoped>\n",
       "    .dataframe tbody tr th:only-of-type {\n",
       "        vertical-align: middle;\n",
       "    }\n",
       "\n",
       "    .dataframe tbody tr th {\n",
       "        vertical-align: top;\n",
       "    }\n",
       "\n",
       "    .dataframe thead th {\n",
       "        text-align: right;\n",
       "    }\n",
       "</style>\n",
       "<table border=\"1\" class=\"dataframe\">\n",
       "  <thead>\n",
       "    <tr style=\"text-align: right;\">\n",
       "      <th></th>\n",
       "      <th>Pclass</th>\n",
       "      <th>Sex</th>\n",
       "      <th>Age</th>\n",
       "      <th>SibSp</th>\n",
       "      <th>Parch</th>\n",
       "      <th>Fare</th>\n",
       "      <th>Embarked</th>\n",
       "      <th>Survived</th>\n",
       "    </tr>\n",
       "  </thead>\n",
       "  <tbody>\n",
       "    <tr>\n",
       "      <th>0</th>\n",
       "      <td>3</td>\n",
       "      <td>1</td>\n",
       "      <td>35.000000</td>\n",
       "      <td>0</td>\n",
       "      <td>0</td>\n",
       "      <td>7.0500</td>\n",
       "      <td>0</td>\n",
       "      <td>0</td>\n",
       "    </tr>\n",
       "    <tr>\n",
       "      <th>1</th>\n",
       "      <td>3</td>\n",
       "      <td>1</td>\n",
       "      <td>30.000000</td>\n",
       "      <td>0</td>\n",
       "      <td>0</td>\n",
       "      <td>7.2500</td>\n",
       "      <td>0</td>\n",
       "      <td>0</td>\n",
       "    </tr>\n",
       "    <tr>\n",
       "      <th>2</th>\n",
       "      <td>3</td>\n",
       "      <td>1</td>\n",
       "      <td>29.699118</td>\n",
       "      <td>0</td>\n",
       "      <td>0</td>\n",
       "      <td>14.5000</td>\n",
       "      <td>0</td>\n",
       "      <td>0</td>\n",
       "    </tr>\n",
       "    <tr>\n",
       "      <th>3</th>\n",
       "      <td>3</td>\n",
       "      <td>0</td>\n",
       "      <td>21.000000</td>\n",
       "      <td>0</td>\n",
       "      <td>0</td>\n",
       "      <td>7.7500</td>\n",
       "      <td>2</td>\n",
       "      <td>0</td>\n",
       "    </tr>\n",
       "    <tr>\n",
       "      <th>4</th>\n",
       "      <td>3</td>\n",
       "      <td>1</td>\n",
       "      <td>32.000000</td>\n",
       "      <td>0</td>\n",
       "      <td>0</td>\n",
       "      <td>56.4958</td>\n",
       "      <td>0</td>\n",
       "      <td>1</td>\n",
       "    </tr>\n",
       "  </tbody>\n",
       "</table>\n",
       "</div>"
      ],
      "text/plain": [
       "   Pclass  Sex        Age  SibSp  Parch     Fare  Embarked  Survived\n",
       "0       3    1  35.000000      0      0   7.0500         0         0\n",
       "1       3    1  30.000000      0      0   7.2500         0         0\n",
       "2       3    1  29.699118      0      0  14.5000         0         0\n",
       "3       3    0  21.000000      0      0   7.7500         2         0\n",
       "4       3    1  32.000000      0      0  56.4958         0         1"
      ]
     },
     "execution_count": 4,
     "metadata": {},
     "output_type": "execute_result"
    }
   ],
   "source": [
    "test_df = pd.read_csv('titanic_test.csv')\n",
    "test_df.head()"
   ]
  },
  {
   "cell_type": "markdown",
   "id": "f507bcdd",
   "metadata": {},
   "source": [
    " # Preprocessing\n",
    "### Data Cleansing\n",
    "### Handle duplicated rows"
   ]
  },
  {
   "cell_type": "code",
   "execution_count": 5,
   "id": "414c89fd",
   "metadata": {},
   "outputs": [
    {
     "name": "stdout",
     "output_type": "stream",
     "text": [
      "Number of rows in train data frame: 712\n",
      "Number of rows in train data frame after removing duplicated rows is: 632\n",
      "\n"
     ]
    }
   ],
   "source": [
    "train_num_rows = train_df.shape[0]\n",
    "print(f\"Number of rows in train data frame: {train_num_rows}\")\n",
    "\n",
    "train_df.drop_duplicates(keep='first',inplace=True)\n",
    "train_df = train_df.reset_index(drop=True)\n",
    "train_num_rows = train_df.shape[0]\n",
    "\n",
    "print(f\"Number of rows in train data frame after removing duplicated rows is: {train_num_rows}\\n\")"
   ]
  },
  {
   "cell_type": "markdown",
   "id": "1a5847c9",
   "metadata": {},
   "source": [
    "### Handle none values"
   ]
  },
  {
   "cell_type": "code",
   "execution_count": 6,
   "id": "4beb7950",
   "metadata": {},
   "outputs": [],
   "source": [
    "train_columns_with_none = train_df.columns[train_df.isnull().any()]\n",
    "for column in train_columns_with_none:\n",
    "    print(column)\n",
    "test_columns_with_none = test_df.columns[test_df.isnull().any()]\n",
    "for column in test_columns_with_none:\n",
    "    print(column)"
   ]
  },
  {
   "cell_type": "markdown",
   "id": "644ab165",
   "metadata": {},
   "source": [
    "As we see, There are not none values in our data frames."
   ]
  },
  {
   "cell_type": "markdown",
   "id": "848efc16",
   "metadata": {},
   "source": [
    " # EDA & Feature Engineering\n",
    "### Exploratory Data Analysis"
   ]
  },
  {
   "cell_type": "code",
   "execution_count": 7,
   "id": "44e4afcc",
   "metadata": {},
   "outputs": [
    {
     "data": {
      "image/png": "[encoded data removed]",
      "text/plain": [
       "<Figure size 640x480 with 1 Axes>"
      ]
     },
     "metadata": {},
     "output_type": "display_data"
    }
   ],
   "source": [
    "sns.countplot(x='Survived', data=train_df, palette='pastel')\n",
    "plt.xlabel('Survival Status')\n",
    "plt.ylabel('Count')\n",
    "plt.title('Survival Count')\n",
    "plt.show()"
   ]
  },
  {
   "cell_type": "markdown",
   "id": "e0e0b340",
   "metadata": {},
   "source": [
    "The count plot clearly illustrates that the number of passengers who did not survive exceeds the count of those who survived."
   ]
  },
  {
   "cell_type": "markdown",
   "id": "e6e88788",
   "metadata": {},
   "source": [
    "### Viewing all pairs correleations\n",
    "The next code will show the correlation between every 2 features in our dataset in a heat matrix."
   ]
  },
  {
   "cell_type": "code",
   "execution_count": 8,
   "id": "19e58571",
   "metadata": {},
   "outputs": [
    {
     "data": {
      "image/png": "[encoded data removed]",
      "text/plain": [
       "<Figure size 1000x800 with 2 Axes>"
      ]
     },
     "metadata": {},
     "output_type": "display_data"
    }
   ],
   "source": [
    "correlation_matrix = train_df.corr()\n",
    "\n",
    "absolute_correlation_matrix = correlation_matrix.abs()\n",
    "\n",
    "plt.figure(figsize=(10, 8))\n",
    "sns.heatmap(absolute_correlation_matrix, annot=True, cmap='coolwarm', fmt=\".2f\", linewidths=.5)\n",
    "plt.title('Absolute Correlation Matrix of Features')\n",
    "plt.show()"
   ]
  },
  {
   "cell_type": "markdown",
   "id": "bd4f5013",
   "metadata": {},
   "source": [
    "### High Correlation Pairs in Training Data\n",
    "\n",
    "This section identifies and lists pairs of features in the training dataset that have a high correlation coefficient (greater than 0.3) after removing duplicate pairs and self-correlations.\n"
   ]
  },
  {
   "cell_type": "code",
   "execution_count": 9,
   "id": "2048d805",
   "metadata": {},
   "outputs": [
    {
     "data": {
      "text/html": [
       "<div>\n",
       "<style scoped>\n",
       "    .dataframe tbody tr th:only-of-type {\n",
       "        vertical-align: middle;\n",
       "    }\n",
       "\n",
       "    .dataframe tbody tr th {\n",
       "        vertical-align: top;\n",
       "    }\n",
       "\n",
       "    .dataframe thead th {\n",
       "        text-align: right;\n",
       "    }\n",
       "</style>\n",
       "<table border=\"1\" class=\"dataframe\">\n",
       "  <thead>\n",
       "    <tr style=\"text-align: right;\">\n",
       "      <th></th>\n",
       "      <th>Feature 1</th>\n",
       "      <th>Feature 2</th>\n",
       "      <th>Correlation Coefficient</th>\n",
       "    </tr>\n",
       "  </thead>\n",
       "  <tbody>\n",
       "    <tr>\n",
       "      <th>8</th>\n",
       "      <td>Fare</td>\n",
       "      <td>Pclass</td>\n",
       "      <td>0.542995</td>\n",
       "    </tr>\n",
       "    <tr>\n",
       "      <th>10</th>\n",
       "      <td>Survived</td>\n",
       "      <td>Sex</td>\n",
       "      <td>0.514598</td>\n",
       "    </tr>\n",
       "    <tr>\n",
       "      <th>12</th>\n",
       "      <td>SibSp</td>\n",
       "      <td>Parch</td>\n",
       "      <td>0.391679</td>\n",
       "    </tr>\n",
       "    <tr>\n",
       "      <th>14</th>\n",
       "      <td>Pclass</td>\n",
       "      <td>Survived</td>\n",
       "      <td>0.323125</td>\n",
       "    </tr>\n",
       "    <tr>\n",
       "      <th>16</th>\n",
       "      <td>Age</td>\n",
       "      <td>Pclass</td>\n",
       "      <td>0.322891</td>\n",
       "    </tr>\n",
       "    <tr>\n",
       "      <th>18</th>\n",
       "      <td>Age</td>\n",
       "      <td>SibSp</td>\n",
       "      <td>0.300990</td>\n",
       "    </tr>\n",
       "  </tbody>\n",
       "</table>\n",
       "</div>"
      ],
      "text/plain": [
       "   Feature 1 Feature 2  Correlation Coefficient\n",
       "8       Fare    Pclass                 0.542995\n",
       "10  Survived       Sex                 0.514598\n",
       "12     SibSp     Parch                 0.391679\n",
       "14    Pclass  Survived                 0.323125\n",
       "16       Age    Pclass                 0.322891\n",
       "18       Age     SibSp                 0.300990"
      ]
     },
     "execution_count": 9,
     "metadata": {},
     "output_type": "execute_result"
    }
   ],
   "source": [
    "df_train_corr = train_df.corr().abs().unstack().sort_values(kind=\"quicksort\", ascending=False).reset_index()\n",
    "df_train_corr.rename(columns={\"level_0\": \"Feature 1\", \"level_1\": \"Feature 2\", 0: 'Correlation Coefficient'}, inplace=True)\n",
    "df_train_corr.drop(df_train_corr.iloc[1::2].index, inplace=True)\n",
    "df_train_corr_nd = df_train_corr.drop(df_train_corr[df_train_corr['Correlation Coefficient'] == 1.0].index)\n",
    "\n",
    "# Training set high correlations\n",
    "corr = df_train_corr_nd['Correlation Coefficient'] > 0.3\n",
    "df_train_corr_nd[corr]"
   ]
  },
  {
   "cell_type": "markdown",
   "id": "bab25e88",
   "metadata": {},
   "source": [
    "### High Correlation Pairs in Test Data\n"
   ]
  },
  {
   "cell_type": "code",
   "execution_count": 10,
   "id": "2d2230ed",
   "metadata": {},
   "outputs": [
    {
     "data": {
      "text/html": [
       "<div>\n",
       "<style scoped>\n",
       "    .dataframe tbody tr th:only-of-type {\n",
       "        vertical-align: middle;\n",
       "    }\n",
       "\n",
       "    .dataframe tbody tr th {\n",
       "        vertical-align: top;\n",
       "    }\n",
       "\n",
       "    .dataframe thead th {\n",
       "        text-align: right;\n",
       "    }\n",
       "</style>\n",
       "<table border=\"1\" class=\"dataframe\">\n",
       "  <thead>\n",
       "    <tr style=\"text-align: right;\">\n",
       "      <th></th>\n",
       "      <th>Feature 1</th>\n",
       "      <th>Feature 2</th>\n",
       "      <th>Correlation Coefficient</th>\n",
       "    </tr>\n",
       "  </thead>\n",
       "  <tbody>\n",
       "    <tr>\n",
       "      <th>8</th>\n",
       "      <td>Pclass</td>\n",
       "      <td>Fare</td>\n",
       "      <td>0.574241</td>\n",
       "    </tr>\n",
       "    <tr>\n",
       "      <th>10</th>\n",
       "      <td>Survived</td>\n",
       "      <td>Sex</td>\n",
       "      <td>0.509608</td>\n",
       "    </tr>\n",
       "    <tr>\n",
       "      <th>12</th>\n",
       "      <td>Parch</td>\n",
       "      <td>Fare</td>\n",
       "      <td>0.471795</td>\n",
       "    </tr>\n",
       "    <tr>\n",
       "      <th>14</th>\n",
       "      <td>SibSp</td>\n",
       "      <td>Parch</td>\n",
       "      <td>0.417181</td>\n",
       "    </tr>\n",
       "    <tr>\n",
       "      <th>16</th>\n",
       "      <td>Pclass</td>\n",
       "      <td>Survived</td>\n",
       "      <td>0.395163</td>\n",
       "    </tr>\n",
       "    <tr>\n",
       "      <th>18</th>\n",
       "      <td>Age</td>\n",
       "      <td>Pclass</td>\n",
       "      <td>0.388599</td>\n",
       "    </tr>\n",
       "  </tbody>\n",
       "</table>\n",
       "</div>"
      ],
      "text/plain": [
       "   Feature 1 Feature 2  Correlation Coefficient\n",
       "8     Pclass      Fare                 0.574241\n",
       "10  Survived       Sex                 0.509608\n",
       "12     Parch      Fare                 0.471795\n",
       "14     SibSp     Parch                 0.417181\n",
       "16    Pclass  Survived                 0.395163\n",
       "18       Age    Pclass                 0.388599"
      ]
     },
     "execution_count": 10,
     "metadata": {},
     "output_type": "execute_result"
    }
   ],
   "source": [
    "df_test_corr = test_df.corr().abs().unstack().sort_values(kind=\"quicksort\", ascending=False).reset_index()\n",
    "df_test_corr.rename(columns={\"level_0\": \"Feature 1\", \"level_1\": \"Feature 2\", 0: 'Correlation Coefficient'}, inplace=True)\n",
    "df_test_corr.drop(df_test_corr.iloc[1::2].index, inplace=True)\n",
    "df_test_corr_nd = df_test_corr.drop(df_test_corr[df_test_corr['Correlation Coefficient'] == 1.0].index)\n",
    "# Test set high correlations\n",
    "corr = df_test_corr_nd['Correlation Coefficient'] > 0.3\n",
    "df_test_corr_nd[corr]"
   ]
  },
  {
   "cell_type": "markdown",
   "id": "2304969f",
   "metadata": {},
   "source": [
    "Upon review of both the test and training datasets, a notable correlation was observed between the 'Pclass' (passenger class) and 'Fare' variables. This correlation is intuitive, as passengers in first class typically have higher fares.\n",
    "\n",
    "Similarly, the 'Survived' variable, indicating passenger survival, displays a significant correlation with the 'Sex' attribute."
   ]
  },
  {
   "cell_type": "markdown",
   "id": "dbd9a5f1",
   "metadata": {},
   "source": [
    "### exploration of the correlation between Survived and sex"
   ]
  },
  {
   "cell_type": "code",
   "execution_count": 11,
   "id": "2fe2d0ea",
   "metadata": {},
   "outputs": [
    {
     "data": {
      "image/png": "[encoded data removed]",
      "text/plain": [
       "<Figure size 800x600 with 1 Axes>"
      ]
     },
     "metadata": {},
     "output_type": "display_data"
    }
   ],
   "source": [
    "plt.figure(figsize=(8, 6))\n",
    "sns.countplot(x='Sex', hue='Survived', data=train_df,palette='pastel')\n",
    "plt.title('Survival Count by Sex')\n",
    "plt.xlabel('Sex')\n",
    "plt.ylabel('Count')\n",
    "plt.grid(True)\n",
    "plt.show()\n"
   ]
  },
  {
   "cell_type": "markdown",
   "id": "1f236721",
   "metadata": {},
   "source": [
    "As evident from the plot above, the survival rate among males significantly surpasses that among females."
   ]
  },
  {
   "cell_type": "code",
   "execution_count": 12,
   "id": "d570f107",
   "metadata": {},
   "outputs": [
    {
     "data": {
      "text/html": [
       "<div>\n",
       "<style scoped>\n",
       "    .dataframe tbody tr th:only-of-type {\n",
       "        vertical-align: middle;\n",
       "    }\n",
       "\n",
       "    .dataframe tbody tr th {\n",
       "        vertical-align: top;\n",
       "    }\n",
       "\n",
       "    .dataframe thead th {\n",
       "        text-align: right;\n",
       "    }\n",
       "</style>\n",
       "<table border=\"1\" class=\"dataframe\">\n",
       "  <thead>\n",
       "    <tr style=\"text-align: right;\">\n",
       "      <th></th>\n",
       "      <th>Survived</th>\n",
       "    </tr>\n",
       "    <tr>\n",
       "      <th>Sex</th>\n",
       "      <th></th>\n",
       "    </tr>\n",
       "  </thead>\n",
       "  <tbody>\n",
       "    <tr>\n",
       "      <th>0</th>\n",
       "      <td>0.742739</td>\n",
       "    </tr>\n",
       "    <tr>\n",
       "      <th>1</th>\n",
       "      <td>0.219949</td>\n",
       "    </tr>\n",
       "  </tbody>\n",
       "</table>\n",
       "</div>"
      ],
      "text/plain": [
       "     Survived\n",
       "Sex          \n",
       "0    0.742739\n",
       "1    0.219949"
      ]
     },
     "execution_count": 12,
     "metadata": {},
     "output_type": "execute_result"
    }
   ],
   "source": [
    "train_df[['Sex', 'Survived']].groupby(['Sex'], as_index=True).mean()\n"
   ]
  },
  {
   "cell_type": "markdown",
   "id": "b26a21a7",
   "metadata": {},
   "source": [
    "### Let's enhance our dataset by creating a new column that combines existing information in a meaningful way. "
   ]
  },
  {
   "cell_type": "code",
   "execution_count": 13,
   "id": "71d1ed44",
   "metadata": {},
   "outputs": [],
   "source": [
    "def process_family_size(df):\n",
    "    df['Family_Size'] = df['SibSp'] + df['Parch'] + 1\n",
    "    df['IsAlone'] = df['Family_Size'].apply(lambda x: 1 if x == 1 else 0)\n",
    "    df = df.drop(['SibSp', 'Parch', 'Family_Size'], axis=1)\n",
    "    return df"
   ]
  },
  {
   "cell_type": "code",
   "execution_count": 14,
   "id": "eb41e300",
   "metadata": {},
   "outputs": [],
   "source": [
    "train_df = process_family_size(train_df)\n",
    "test_df = process_family_size(test_df)\n"
   ]
  },
  {
   "cell_type": "code",
   "execution_count": 15,
   "id": "c1aac6a9",
   "metadata": {},
   "outputs": [
    {
     "data": {
      "text/html": [
       "<div>\n",
       "<style scoped>\n",
       "    .dataframe tbody tr th:only-of-type {\n",
       "        vertical-align: middle;\n",
       "    }\n",
       "\n",
       "    .dataframe tbody tr th {\n",
       "        vertical-align: top;\n",
       "    }\n",
       "\n",
       "    .dataframe thead th {\n",
       "        text-align: right;\n",
       "    }\n",
       "</style>\n",
       "<table border=\"1\" class=\"dataframe\">\n",
       "  <thead>\n",
       "    <tr style=\"text-align: right;\">\n",
       "      <th></th>\n",
       "      <th>Survived</th>\n",
       "    </tr>\n",
       "    <tr>\n",
       "      <th>IsAlone</th>\n",
       "      <th></th>\n",
       "    </tr>\n",
       "  </thead>\n",
       "  <tbody>\n",
       "    <tr>\n",
       "      <th>0</th>\n",
       "      <td>0.500000</td>\n",
       "    </tr>\n",
       "    <tr>\n",
       "      <th>1</th>\n",
       "      <td>0.355114</td>\n",
       "    </tr>\n",
       "  </tbody>\n",
       "</table>\n",
       "</div>"
      ],
      "text/plain": [
       "         Survived\n",
       "IsAlone          \n",
       "0        0.500000\n",
       "1        0.355114"
      ]
     },
     "execution_count": 15,
     "metadata": {},
     "output_type": "execute_result"
    }
   ],
   "source": [
    "train_df[['IsAlone', 'Survived']].groupby(['IsAlone'], as_index=True).mean()"
   ]
  },
  {
   "cell_type": "markdown",
   "id": "9a26de8f",
   "metadata": {},
   "source": [
    "As we see, the likelihood of survival appears to increase when passengers are not traveling alone."
   ]
  },
  {
   "cell_type": "code",
   "execution_count": 16,
   "id": "0633a826",
   "metadata": {},
   "outputs": [
    {
     "data": {
      "image/png": "[encoded data removed]",
      "text/plain": [
       "<Figure size 800x600 with 1 Axes>"
      ]
     },
     "metadata": {},
     "output_type": "display_data"
    }
   ],
   "source": [
    "plt.figure(figsize=(8, 6))\n",
    "sns.barplot(x=\"IsAlone\", y=\"Survived\", data=train_df, palette=\"Set3\")\n",
    "plt.title(\"Survival Rate by IsAlone\")\n",
    "plt.xlabel(\"IsAlone\")\n",
    "plt.ylabel(\"Survival Rate\")\n",
    "plt.show()"
   ]
  },
  {
   "cell_type": "markdown",
   "id": "2d616ca7",
   "metadata": {},
   "source": [
    "## Data Handling\n",
    "In our dataset, we have a total of 6 feature columns. Among these:\n",
    "\n",
    "2 columns represent continuous variables: 'Age' and 'Fare'.\n",
    "2 columns are binary: 'IsAlone' and 'Sex'.\n",
    "1 column is categorical ordinal: 'Pclass'.\n",
    "1 column is categorical without order: 'Embarked'.\n",
    "We need to handle missing values and perform preprocessing on the continuous variables 'Age' and 'Fare', as well as the categorical variable 'Embarked', which lacks an inherent order. The binary columns and 'Pclass' do not require further handling."
   ]
  },
  {
   "cell_type": "markdown",
   "id": "48afe4c8",
   "metadata": {},
   "source": [
    "### We are creating a copy of our data frames for further analysis (for separation from the best permutation search )"
   ]
  },
  {
   "cell_type": "code",
   "execution_count": 17,
   "id": "59516aec",
   "metadata": {},
   "outputs": [],
   "source": [
    "train_df_copy = train_df.copy()\n",
    "test_df_copy= test_df.copy()"
   ]
  },
  {
   "cell_type": "markdown",
   "id": "c9fa4bce",
   "metadata": {},
   "source": [
    "### Performing one-hot encoding for Embarked column"
   ]
  },
  {
   "cell_type": "code",
   "execution_count": 18,
   "id": "65c991d4",
   "metadata": {},
   "outputs": [],
   "source": [
    "train_df_copy = pd.get_dummies(train_df, columns=['Embarked'], prefix='Embarked')\n",
    "test_df_copy = pd.get_dummies(test_df, columns=['Embarked'], prefix='Embarked')\n"
   ]
  },
  {
   "cell_type": "markdown",
   "id": "ec384abe",
   "metadata": {},
   "source": [
    "### Performing standardization scaling on Age and Fare columns"
   ]
  },
  {
   "cell_type": "code",
   "execution_count": 19,
   "id": "a3a67859",
   "metadata": {},
   "outputs": [],
   "source": [
    "numeric_features = ['Age', 'Fare']\n",
    "scaler = StandardScaler()\n",
    "train_df_copy[numeric_features] = scaler.fit_transform(train_df_copy[numeric_features])\n",
    "test_df_copy[numeric_features] = scaler.transform(test_df_copy[numeric_features])\n"
   ]
  },
  {
   "cell_type": "markdown",
   "id": "f91e114c",
   "metadata": {},
   "source": [
    "### Splitting the data to train and test set for using machine learning models"
   ]
  },
  {
   "cell_type": "code",
   "execution_count": 20,
   "id": "ecdd832e",
   "metadata": {},
   "outputs": [],
   "source": [
    "x_train_copy= train_df_copy.drop(columns=['Survived'])\n",
    "y_train_copy = train_df_copy['Survived']\n",
    "\n",
    "x_test_copy = test_df_copy.drop(columns=['Survived'])\n",
    "y_test_copy= test_df_copy['Survived']"
   ]
  },
  {
   "cell_type": "markdown",
   "id": "97c50199",
   "metadata": {},
   "source": [
    "## First model : KNN\n",
    "We are experimenting with a K-Nearest Neighbors  model, configured with 100 neighbors and utilizing Manhattan distance."
   ]
  },
  {
   "cell_type": "code",
   "execution_count": 21,
   "id": "61201ad8",
   "metadata": {},
   "outputs": [
    {
     "name": "stdout",
     "output_type": "stream",
     "text": [
      "F1 Score: 0.7058823529411764\n"
     ]
    }
   ],
   "source": [
    "knn = KNeighborsClassifier(n_neighbors=100,p=1)  \n",
    "\n",
    "knn.fit(x_train_copy, y_train_copy)\n",
    "\n",
    "y_pred = knn.predict(x_test_copy)\n",
    "\n",
    "f1 = f1_score(y_test_copy, y_pred)\n",
    "\n",
    "print(\"F1 Score:\", f1)"
   ]
  },
  {
   "cell_type": "markdown",
   "id": "b749b6ee",
   "metadata": {},
   "source": [
    "We are not very satisfied from the score knn achieved. let's try another model."
   ]
  },
  {
   "cell_type": "markdown",
   "id": "b9055a6f",
   "metadata": {},
   "source": [
    "## Second model : Random Forest\n",
    "We ensure consistent results by setting the random seed to 100 using the parameter random_state. Additionally, we construct a forest of 200 trees, specifying n_estimators, and limit the maximum depth of each tree to 3 with the parameter max_depth."
   ]
  },
  {
   "cell_type": "code",
   "execution_count": 22,
   "id": "23edfbe3",
   "metadata": {},
   "outputs": [
    {
     "name": "stdout",
     "output_type": "stream",
     "text": [
      "F1 Score: 0.7547169811320755\n"
     ]
    }
   ],
   "source": [
    "rf_classifier = RandomForestClassifier(max_depth=3,n_estimators=200,random_state=100)\n",
    "\n",
    "rf_classifier.fit(x_train_copy, y_train_copy)\n",
    "\n",
    "y_pred = rf_classifier.predict(x_test_copy)\n",
    "\n",
    "f1 = f1_score(y_test_copy, y_pred)\n",
    "\n",
    "print(\"F1 Score:\", f1)"
   ]
  },
  {
   "cell_type": "markdown",
   "id": "049c0738",
   "metadata": {},
   "source": [
    "Random Forest achieved higher f1 score than knn."
   ]
  },
  {
   "cell_type": "markdown",
   "id": "421ade72",
   "metadata": {},
   "source": [
    "### Feature Importance\n",
    "Let's try raising the score by training our model exclusively on the most influential features. To do this, we'll identify these features first:"
   ]
  },
  {
   "cell_type": "code",
   "execution_count": 23,
   "id": "cd5e957a",
   "metadata": {},
   "outputs": [
    {
     "data": {
      "text/html": [
       "<div>\n",
       "<style scoped>\n",
       "    .dataframe tbody tr th:only-of-type {\n",
       "        vertical-align: middle;\n",
       "    }\n",
       "\n",
       "    .dataframe tbody tr th {\n",
       "        vertical-align: top;\n",
       "    }\n",
       "\n",
       "    .dataframe thead th {\n",
       "        text-align: right;\n",
       "    }\n",
       "</style>\n",
       "<table border=\"1\" class=\"dataframe\">\n",
       "  <thead>\n",
       "    <tr style=\"text-align: right;\">\n",
       "      <th></th>\n",
       "      <th>Feature</th>\n",
       "      <th>Importance</th>\n",
       "    </tr>\n",
       "  </thead>\n",
       "  <tbody>\n",
       "    <tr>\n",
       "      <th>0</th>\n",
       "      <td>Sex</td>\n",
       "      <td>0.493729</td>\n",
       "    </tr>\n",
       "    <tr>\n",
       "      <th>1</th>\n",
       "      <td>Pclass</td>\n",
       "      <td>0.189278</td>\n",
       "    </tr>\n",
       "    <tr>\n",
       "      <th>2</th>\n",
       "      <td>Fare</td>\n",
       "      <td>0.162505</td>\n",
       "    </tr>\n",
       "    <tr>\n",
       "      <th>3</th>\n",
       "      <td>Age</td>\n",
       "      <td>0.096735</td>\n",
       "    </tr>\n",
       "    <tr>\n",
       "      <th>4</th>\n",
       "      <td>Embarked_1</td>\n",
       "      <td>0.023881</td>\n",
       "    </tr>\n",
       "    <tr>\n",
       "      <th>5</th>\n",
       "      <td>IsAlone</td>\n",
       "      <td>0.018194</td>\n",
       "    </tr>\n",
       "    <tr>\n",
       "      <th>6</th>\n",
       "      <td>Embarked_0</td>\n",
       "      <td>0.009964</td>\n",
       "    </tr>\n",
       "    <tr>\n",
       "      <th>7</th>\n",
       "      <td>Embarked_2</td>\n",
       "      <td>0.005057</td>\n",
       "    </tr>\n",
       "    <tr>\n",
       "      <th>8</th>\n",
       "      <td>Embarked_3</td>\n",
       "      <td>0.000658</td>\n",
       "    </tr>\n",
       "  </tbody>\n",
       "</table>\n",
       "</div>"
      ],
      "text/plain": [
       "      Feature  Importance\n",
       "0         Sex    0.493729\n",
       "1      Pclass    0.189278\n",
       "2        Fare    0.162505\n",
       "3         Age    0.096735\n",
       "4  Embarked_1    0.023881\n",
       "5     IsAlone    0.018194\n",
       "6  Embarked_0    0.009964\n",
       "7  Embarked_2    0.005057\n",
       "8  Embarked_3    0.000658"
      ]
     },
     "execution_count": 23,
     "metadata": {},
     "output_type": "execute_result"
    }
   ],
   "source": [
    "feature_names = x_train_copy.columns\n",
    "\n",
    "feature_importances = rf_classifier.feature_importances_\n",
    "\n",
    "sorted_indices = np.argsort(feature_importances)[::-1]\n",
    "\n",
    "feature_importance_df = pd.DataFrame({'Feature': feature_names[sorted_indices],'Importance': feature_importances[sorted_indices]})\n",
    "\n",
    "feature_importance_df"
   ]
  },
  {
   "cell_type": "markdown",
   "id": "aa86febd",
   "metadata": {},
   "source": [
    "### This diagram illustrates the importance of each feature in the Random Forest classifier, with taller bars indicating features that have a greater impact on the model's predictions."
   ]
  },
  {
   "cell_type": "code",
   "execution_count": 24,
   "id": "9bd44faa",
   "metadata": {},
   "outputs": [
    {
     "data": {
      "image/png": "[encoded data removed]",
      "text/plain": [
       "<Figure size 1000x600 with 1 Axes>"
      ]
     },
     "metadata": {},
     "output_type": "display_data"
    }
   ],
   "source": [
    "fig, ax = plt.subplots(figsize=(10, 6))\n",
    "\n",
    "ax.barh(feature_importance_df['Feature'], feature_importance_df['Importance'], color='skyblue')\n",
    "\n",
    "ax.set_xlabel('Importance')\n",
    "ax.set_ylabel('Feature')\n",
    "ax.set_title('Feature Importance')\n",
    "\n",
    "plt.show()"
   ]
  },
  {
   "cell_type": "markdown",
   "id": "c8d5a1a6",
   "metadata": {},
   "source": [
    "### Training our model solely on the top 4 most significant features:\n",
    "sex, Pclass, Fare and Age."
   ]
  },
  {
   "cell_type": "code",
   "execution_count": 25,
   "id": "aa8e7e74",
   "metadata": {},
   "outputs": [
    {
     "name": "stdout",
     "output_type": "stream",
     "text": [
      "F1 Score on Test Set (using only top 4 features): 0.7321428571428572\n"
     ]
    }
   ],
   "source": [
    "top_features = feature_names[sorted_indices[:4]]\n",
    "\n",
    "x_train_top = x_train_copy[top_features]\n",
    "x_test_top = x_test_copy[top_features]\n",
    "\n",
    "rf_classifier_top = RandomForestClassifier(max_features='sqrt', max_depth=3, n_estimators=200, random_state=100)\n",
    "rf_classifier_top.fit(x_train_top, y_train_copy)\n",
    "\n",
    "y_pred_top = rf_classifier_top.predict(x_test_top)\n",
    "f1_top = f1_score(y_test_copy, y_pred_top)\n",
    "print(\"F1 Score on Test Set (using only top 4 features):\", f1_top)\n"
   ]
  },
  {
   "cell_type": "markdown",
   "id": "6fcdc0b3",
   "metadata": {},
   "source": [
    "The decrease in score suggests that we might have lost crucial information necessary for accurate predictions by training the model only on the top 4 features."
   ]
  },
  {
   "cell_type": "markdown",
   "id": "515547aa",
   "metadata": {},
   "source": [
    "## Third model: Gradient Boosting\n",
    "Gradient Boosting captures complex relationships between features and the target variable, which is crucial for our prediction. Additionally, Gradient Boosting is robust to outliers and noisy data, making it suitable for real-world datasets like ours.\n",
    "We ensure consistent results also in this model by setting the random seed to 100 using the parameter random_state. In addition, we construct a forest of 300 trees, specifying n_estimators, and limit the maximum depth of each tree to 6 with the parameter max_depth."
   ]
  },
  {
   "cell_type": "code",
   "execution_count": 26,
   "id": "8c0f2771",
   "metadata": {},
   "outputs": [
    {
     "name": "stdout",
     "output_type": "stream",
     "text": [
      "F1 Score: 0.8\n"
     ]
    }
   ],
   "source": [
    "gb_classifier = GradientBoostingClassifier(max_depth=6,n_estimators=300,random_state=100)\n",
    "\n",
    "gb_classifier.fit(x_train_copy, y_train_copy)\n",
    "y_pred = gb_classifier.predict(x_test_copy)\n",
    "\n",
    "f1 = f1_score(y_test_copy, y_pred)\n",
    "print(\"F1 Score:\", f1)"
   ]
  },
  {
   "cell_type": "markdown",
   "id": "5b5e9edc",
   "metadata": {},
   "source": [
    "### We achieved 80% !"
   ]
  },
  {
   "cell_type": "markdown",
   "id": "e31fe4d6",
   "metadata": {},
   "source": [
    "## Finding the best model & parameters permutation"
   ]
  },
  {
   "cell_type": "markdown",
   "id": "c55bce07",
   "metadata": {},
   "source": [
    "### Splitting to train and test"
   ]
  },
  {
   "cell_type": "code",
   "execution_count": 27,
   "id": "d685836f",
   "metadata": {},
   "outputs": [],
   "source": [
    "X_train= train_df.drop(columns=['Survived'])\n",
    "y_train = train_df['Survived']\n",
    "\n",
    "X_test = test_df.drop(columns=['Survived'])\n",
    "y_test= test_df['Survived']"
   ]
  },
  {
   "cell_type": "markdown",
   "id": "1e39678d",
   "metadata": {},
   "source": [
    "### Defining to each feature the proper scaling"
   ]
  },
  {
   "cell_type": "code",
   "execution_count": 28,
   "id": "a2a49545",
   "metadata": {},
   "outputs": [],
   "source": [
    "numeric_features = ['Age', 'Fare']\n",
    "categorical_features = ['Embarked']\n",
    "unchanged_features = ['Sex', 'IsAlone', 'Pclass']"
   ]
  },
  {
   "cell_type": "code",
   "execution_count": 29,
   "id": "ef8436b4",
   "metadata": {},
   "outputs": [
    {
     "data": {
      "text/html": [
       "<div>\n",
       "<style scoped>\n",
       "    .dataframe tbody tr th:only-of-type {\n",
       "        vertical-align: middle;\n",
       "    }\n",
       "\n",
       "    .dataframe tbody tr th {\n",
       "        vertical-align: top;\n",
       "    }\n",
       "\n",
       "    .dataframe thead th {\n",
       "        text-align: right;\n",
       "    }\n",
       "</style>\n",
       "<table border=\"1\" class=\"dataframe\">\n",
       "  <thead>\n",
       "    <tr style=\"text-align: right;\">\n",
       "      <th></th>\n",
       "      <th>Model</th>\n",
       "      <th>Scaler</th>\n",
       "      <th>Params</th>\n",
       "      <th>Mean Test Score</th>\n",
       "      <th>Std Test Score</th>\n",
       "    </tr>\n",
       "  </thead>\n",
       "  <tbody>\n",
       "    <tr>\n",
       "      <th>0</th>\n",
       "      <td>RandomForestClassifier</td>\n",
       "      <td>StandardScaler</td>\n",
       "      <td>{'classifier__max_depth': 10, 'classifier__min...</td>\n",
       "      <td>0.695262</td>\n",
       "      <td>0.051826</td>\n",
       "    </tr>\n",
       "    <tr>\n",
       "      <th>1</th>\n",
       "      <td>RandomForestClassifier</td>\n",
       "      <td>StandardScaler</td>\n",
       "      <td>{'classifier__max_depth': 10, 'classifier__min...</td>\n",
       "      <td>0.701384</td>\n",
       "      <td>0.062427</td>\n",
       "    </tr>\n",
       "    <tr>\n",
       "      <th>2</th>\n",
       "      <td>RandomForestClassifier</td>\n",
       "      <td>StandardScaler</td>\n",
       "      <td>{'classifier__max_depth': 10, 'classifier__min...</td>\n",
       "      <td>0.701646</td>\n",
       "      <td>0.055617</td>\n",
       "    </tr>\n",
       "    <tr>\n",
       "      <th>3</th>\n",
       "      <td>RandomForestClassifier</td>\n",
       "      <td>StandardScaler</td>\n",
       "      <td>{'classifier__max_depth': 10, 'classifier__min...</td>\n",
       "      <td>0.712749</td>\n",
       "      <td>0.050035</td>\n",
       "    </tr>\n",
       "    <tr>\n",
       "      <th>4</th>\n",
       "      <td>RandomForestClassifier</td>\n",
       "      <td>StandardScaler</td>\n",
       "      <td>{'classifier__max_depth': 10, 'classifier__min...</td>\n",
       "      <td>0.708115</td>\n",
       "      <td>0.050372</td>\n",
       "    </tr>\n",
       "    <tr>\n",
       "      <th>...</th>\n",
       "      <td>...</td>\n",
       "      <td>...</td>\n",
       "      <td>...</td>\n",
       "      <td>...</td>\n",
       "      <td>...</td>\n",
       "    </tr>\n",
       "    <tr>\n",
       "      <th>1147</th>\n",
       "      <td>KNeighborsClassifier</td>\n",
       "      <td>None</td>\n",
       "      <td>{'classifier__metric': 'manhattan', 'classifie...</td>\n",
       "      <td>0.582850</td>\n",
       "      <td>0.036111</td>\n",
       "    </tr>\n",
       "    <tr>\n",
       "      <th>1148</th>\n",
       "      <td>KNeighborsClassifier</td>\n",
       "      <td>None</td>\n",
       "      <td>{'classifier__metric': 'manhattan', 'classifie...</td>\n",
       "      <td>0.567419</td>\n",
       "      <td>0.053362</td>\n",
       "    </tr>\n",
       "    <tr>\n",
       "      <th>1149</th>\n",
       "      <td>KNeighborsClassifier</td>\n",
       "      <td>None</td>\n",
       "      <td>{'classifier__metric': 'manhattan', 'classifie...</td>\n",
       "      <td>0.586518</td>\n",
       "      <td>0.033692</td>\n",
       "    </tr>\n",
       "    <tr>\n",
       "      <th>1150</th>\n",
       "      <td>KNeighborsClassifier</td>\n",
       "      <td>None</td>\n",
       "      <td>{'classifier__metric': 'manhattan', 'classifie...</td>\n",
       "      <td>0.559620</td>\n",
       "      <td>0.062480</td>\n",
       "    </tr>\n",
       "    <tr>\n",
       "      <th>1151</th>\n",
       "      <td>KNeighborsClassifier</td>\n",
       "      <td>None</td>\n",
       "      <td>{'classifier__metric': 'manhattan', 'classifie...</td>\n",
       "      <td>0.589455</td>\n",
       "      <td>0.037451</td>\n",
       "    </tr>\n",
       "  </tbody>\n",
       "</table>\n",
       "<p>1152 rows × 5 columns</p>\n",
       "</div>"
      ],
      "text/plain": [
       "                       Model          Scaler  \\\n",
       "0     RandomForestClassifier  StandardScaler   \n",
       "1     RandomForestClassifier  StandardScaler   \n",
       "2     RandomForestClassifier  StandardScaler   \n",
       "3     RandomForestClassifier  StandardScaler   \n",
       "4     RandomForestClassifier  StandardScaler   \n",
       "...                      ...             ...   \n",
       "1147    KNeighborsClassifier            None   \n",
       "1148    KNeighborsClassifier            None   \n",
       "1149    KNeighborsClassifier            None   \n",
       "1150    KNeighborsClassifier            None   \n",
       "1151    KNeighborsClassifier            None   \n",
       "\n",
       "                                                 Params  Mean Test Score  \\\n",
       "0     {'classifier__max_depth': 10, 'classifier__min...         0.695262   \n",
       "1     {'classifier__max_depth': 10, 'classifier__min...         0.701384   \n",
       "2     {'classifier__max_depth': 10, 'classifier__min...         0.701646   \n",
       "3     {'classifier__max_depth': 10, 'classifier__min...         0.712749   \n",
       "4     {'classifier__max_depth': 10, 'classifier__min...         0.708115   \n",
       "...                                                 ...              ...   \n",
       "1147  {'classifier__metric': 'manhattan', 'classifie...         0.582850   \n",
       "1148  {'classifier__metric': 'manhattan', 'classifie...         0.567419   \n",
       "1149  {'classifier__metric': 'manhattan', 'classifie...         0.586518   \n",
       "1150  {'classifier__metric': 'manhattan', 'classifie...         0.559620   \n",
       "1151  {'classifier__metric': 'manhattan', 'classifie...         0.589455   \n",
       "\n",
       "      Std Test Score  \n",
       "0           0.051826  \n",
       "1           0.062427  \n",
       "2           0.055617  \n",
       "3           0.050035  \n",
       "4           0.050372  \n",
       "...              ...  \n",
       "1147        0.036111  \n",
       "1148        0.053362  \n",
       "1149        0.033692  \n",
       "1150        0.062480  \n",
       "1151        0.037451  \n",
       "\n",
       "[1152 rows x 5 columns]"
      ]
     },
     "execution_count": 29,
     "metadata": {},
     "output_type": "execute_result"
    }
   ],
   "source": [
    "# Assuming you have defined X_train, y_train, numeric_features, categorical_features, unchanged_features\n",
    "\n",
    "scalers = {\n",
    "    'StandardScaler': StandardScaler(),\n",
    "    'MinMaxScaler': MinMaxScaler(),\n",
    "    'None': 'passthrough'  # Adding 'None' option for no scaling\n",
    "}\n",
    "\n",
    "results = []\n",
    "\n",
    "# Running on all Scalers & Models & Params with grid search\n",
    "for scaler_name, scaler in scalers.items():\n",
    "    if scaler_name == 'None':\n",
    "        numeric_transformer = 'passthrough'  # No scaling applied\n",
    "    else:\n",
    "        numeric_transformer = Pipeline(steps=[\n",
    "            ('scaler', scaler)\n",
    "        ])\n",
    "\n",
    "    categorical_transformer = Pipeline(steps=[\n",
    "        ('onehot', OneHotEncoder(handle_unknown='ignore'))\n",
    "    ])\n",
    "\n",
    "    preprocessor = ColumnTransformer(transformers=[\n",
    "        ('num', numeric_transformer, numeric_features),\n",
    "        ('cat', categorical_transformer, categorical_features),\n",
    "        ('unchanged', 'passthrough', unchanged_features)\n",
    "    ])\n",
    "\n",
    "    models = {\n",
    "        'RandomForestClassifier': {\n",
    "            'model': RandomForestClassifier(random_state=100),\n",
    "            'params': {\n",
    "                'classifier__n_estimators': np.arange(50, 301, 50),\n",
    "                'classifier__max_depth': [10, 20, 30, None],\n",
    "                'classifier__min_samples_split': [2, 5, 10],\n",
    "                'classifier__min_samples_leaf': [1, 2, 4]\n",
    "            }\n",
    "        },\n",
    "        'GradientBoostingClassifier': {\n",
    "            'model': GradientBoostingClassifier(random_state=100),\n",
    "            'params': {\n",
    "                'classifier__n_estimators': np.arange(100, 401, 100),\n",
    "                'classifier__learning_rate': [0.01, 0.05, 0.1],\n",
    "                'classifier__max_depth': [3, 4, 5, 6],\n",
    "            }\n",
    "        },\n",
    "        'KNeighborsClassifier': {\n",
    "            'model': KNeighborsClassifier(),\n",
    "            'params': {\n",
    "                'classifier__n_neighbors': np.arange(1, 31),\n",
    "                'classifier__weights': ['uniform', 'distance'],\n",
    "                'classifier__metric': ['euclidean', 'manhattan']\n",
    "            }\n",
    "        }\n",
    "    }\n",
    "\n",
    "    for model_name, mp in models.items():\n",
    "        pipe = Pipeline([\n",
    "            ('preprocessor', preprocessor),\n",
    "            ('classifier', mp['model'])\n",
    "        ])\n",
    "\n",
    "        search = GridSearchCV(pipe, mp['params'], cv=5, scoring='f1', return_train_score=True)\n",
    "        search.fit(X_train, y_train)\n",
    "\n",
    "        for i, params in enumerate(search.cv_results_['params']):\n",
    "            results.append({\n",
    "                'Model': model_name,\n",
    "                'Scaler': scaler_name if scaler_name != 'None' else 'None',\n",
    "                'Params': params,\n",
    "                'Mean Test Score': search.cv_results_['mean_test_score'][i],\n",
    "                'Std Test Score': search.cv_results_['std_test_score'][i]\n",
    "            })\n",
    "\n",
    "# Creating the DataFrame with all the results\n",
    "all_results_df = pd.DataFrame(results)\n",
    "all_results_df\n"
   ]
  },
  {
   "cell_type": "markdown",
   "id": "332095ca",
   "metadata": {},
   "source": [
    "### Using transformation&scaling pre-pipeline"
   ]
  },
  {
   "cell_type": "markdown",
   "id": "53bdae0d",
   "metadata": {},
   "source": [
    "#### Finding the best permutation for each model"
   ]
  },
  {
   "cell_type": "code",
   "execution_count": 30,
   "id": "5a2afad4",
   "metadata": {},
   "outputs": [
    {
     "name": "stdout",
     "output_type": "stream",
     "text": [
      "\n",
      "Best results for each model:\n"
     ]
    },
    {
     "data": {
      "text/html": [
       "<div>\n",
       "<style scoped>\n",
       "    .dataframe tbody tr th:only-of-type {\n",
       "        vertical-align: middle;\n",
       "    }\n",
       "\n",
       "    .dataframe tbody tr th {\n",
       "        vertical-align: top;\n",
       "    }\n",
       "\n",
       "    .dataframe thead th {\n",
       "        text-align: right;\n",
       "    }\n",
       "</style>\n",
       "<table border=\"1\" class=\"dataframe\">\n",
       "  <thead>\n",
       "    <tr style=\"text-align: right;\">\n",
       "      <th></th>\n",
       "      <th>Model</th>\n",
       "      <th>Scaler</th>\n",
       "      <th>Params</th>\n",
       "      <th>Mean Test Score</th>\n",
       "      <th>Std Test Score</th>\n",
       "    </tr>\n",
       "  </thead>\n",
       "  <tbody>\n",
       "    <tr>\n",
       "      <th>610</th>\n",
       "      <td>GradientBoostingClassifier</td>\n",
       "      <td>MinMaxScaler</td>\n",
       "      <td>{'classifier__learning_rate': 0.01, 'classifie...</td>\n",
       "      <td>0.740869</td>\n",
       "      <td>0.041099</td>\n",
       "    </tr>\n",
       "    <tr>\n",
       "      <th>994</th>\n",
       "      <td>GradientBoostingClassifier</td>\n",
       "      <td>None</td>\n",
       "      <td>{'classifier__learning_rate': 0.01, 'classifie...</td>\n",
       "      <td>0.740869</td>\n",
       "      <td>0.041099</td>\n",
       "    </tr>\n",
       "    <tr>\n",
       "      <th>226</th>\n",
       "      <td>GradientBoostingClassifier</td>\n",
       "      <td>StandardScaler</td>\n",
       "      <td>{'classifier__learning_rate': 0.01, 'classifie...</td>\n",
       "      <td>0.740869</td>\n",
       "      <td>0.041099</td>\n",
       "    </tr>\n",
       "    <tr>\n",
       "      <th>719</th>\n",
       "      <td>KNeighborsClassifier</td>\n",
       "      <td>MinMaxScaler</td>\n",
       "      <td>{'classifier__metric': 'manhattan', 'classifie...</td>\n",
       "      <td>0.695902</td>\n",
       "      <td>0.057164</td>\n",
       "    </tr>\n",
       "    <tr>\n",
       "      <th>1096</th>\n",
       "      <td>KNeighborsClassifier</td>\n",
       "      <td>None</td>\n",
       "      <td>{'classifier__metric': 'manhattan', 'classifie...</td>\n",
       "      <td>0.621971</td>\n",
       "      <td>0.029679</td>\n",
       "    </tr>\n",
       "    <tr>\n",
       "      <th>332</th>\n",
       "      <td>KNeighborsClassifier</td>\n",
       "      <td>StandardScaler</td>\n",
       "      <td>{'classifier__metric': 'manhattan', 'classifie...</td>\n",
       "      <td>0.697760</td>\n",
       "      <td>0.038118</td>\n",
       "    </tr>\n",
       "    <tr>\n",
       "      <th>486</th>\n",
       "      <td>RandomForestClassifier</td>\n",
       "      <td>MinMaxScaler</td>\n",
       "      <td>{'classifier__max_depth': 20, 'classifier__min...</td>\n",
       "      <td>0.750050</td>\n",
       "      <td>0.049005</td>\n",
       "    </tr>\n",
       "    <tr>\n",
       "      <th>854</th>\n",
       "      <td>RandomForestClassifier</td>\n",
       "      <td>None</td>\n",
       "      <td>{'classifier__max_depth': 20, 'classifier__min...</td>\n",
       "      <td>0.754325</td>\n",
       "      <td>0.048592</td>\n",
       "    </tr>\n",
       "    <tr>\n",
       "      <th>86</th>\n",
       "      <td>RandomForestClassifier</td>\n",
       "      <td>StandardScaler</td>\n",
       "      <td>{'classifier__max_depth': 20, 'classifier__min...</td>\n",
       "      <td>0.752837</td>\n",
       "      <td>0.047148</td>\n",
       "    </tr>\n",
       "  </tbody>\n",
       "</table>\n",
       "</div>"
      ],
      "text/plain": [
       "                           Model          Scaler  \\\n",
       "610   GradientBoostingClassifier    MinMaxScaler   \n",
       "994   GradientBoostingClassifier            None   \n",
       "226   GradientBoostingClassifier  StandardScaler   \n",
       "719         KNeighborsClassifier    MinMaxScaler   \n",
       "1096        KNeighborsClassifier            None   \n",
       "332         KNeighborsClassifier  StandardScaler   \n",
       "486       RandomForestClassifier    MinMaxScaler   \n",
       "854       RandomForestClassifier            None   \n",
       "86        RandomForestClassifier  StandardScaler   \n",
       "\n",
       "                                                 Params  Mean Test Score  \\\n",
       "610   {'classifier__learning_rate': 0.01, 'classifie...         0.740869   \n",
       "994   {'classifier__learning_rate': 0.01, 'classifie...         0.740869   \n",
       "226   {'classifier__learning_rate': 0.01, 'classifie...         0.740869   \n",
       "719   {'classifier__metric': 'manhattan', 'classifie...         0.695902   \n",
       "1096  {'classifier__metric': 'manhattan', 'classifie...         0.621971   \n",
       "332   {'classifier__metric': 'manhattan', 'classifie...         0.697760   \n",
       "486   {'classifier__max_depth': 20, 'classifier__min...         0.750050   \n",
       "854   {'classifier__max_depth': 20, 'classifier__min...         0.754325   \n",
       "86    {'classifier__max_depth': 20, 'classifier__min...         0.752837   \n",
       "\n",
       "      Std Test Score  \n",
       "610         0.041099  \n",
       "994         0.041099  \n",
       "226         0.041099  \n",
       "719         0.057164  \n",
       "1096        0.029679  \n",
       "332         0.038118  \n",
       "486         0.049005  \n",
       "854         0.048592  \n",
       "86          0.047148  "
      ]
     },
     "execution_count": 30,
     "metadata": {},
     "output_type": "execute_result"
    }
   ],
   "source": [
    "best_results = all_results_df.loc[all_results_df.groupby(['Model', 'Scaler'])['Mean Test Score'].idxmax()]\n",
    "print(\"\\nBest results for each model:\")\n",
    "best_results"
   ]
  },
  {
   "cell_type": "markdown",
   "id": "d477a6c9",
   "metadata": {},
   "source": [
    "#### Finding the model with the best score"
   ]
  },
  {
   "cell_type": "code",
   "execution_count": 31,
   "id": "2aa124a6",
   "metadata": {},
   "outputs": [
    {
     "name": "stdout",
     "output_type": "stream",
     "text": [
      "\n",
      "Best model overall:\n"
     ]
    },
    {
     "data": {
      "text/html": [
       "<div>\n",
       "<style scoped>\n",
       "    .dataframe tbody tr th:only-of-type {\n",
       "        vertical-align: middle;\n",
       "    }\n",
       "\n",
       "    .dataframe tbody tr th {\n",
       "        vertical-align: top;\n",
       "    }\n",
       "\n",
       "    .dataframe thead th {\n",
       "        text-align: right;\n",
       "    }\n",
       "</style>\n",
       "<table border=\"1\" class=\"dataframe\">\n",
       "  <thead>\n",
       "    <tr style=\"text-align: right;\">\n",
       "      <th></th>\n",
       "      <th>Model</th>\n",
       "      <th>Scaler</th>\n",
       "      <th>Params</th>\n",
       "      <th>Mean Test Score</th>\n",
       "      <th>Std Test Score</th>\n",
       "    </tr>\n",
       "  </thead>\n",
       "  <tbody>\n",
       "    <tr>\n",
       "      <th>854</th>\n",
       "      <td>RandomForestClassifier</td>\n",
       "      <td>None</td>\n",
       "      <td>{'classifier__max_depth': 20, 'classifier__min...</td>\n",
       "      <td>0.754325</td>\n",
       "      <td>0.048592</td>\n",
       "    </tr>\n",
       "  </tbody>\n",
       "</table>\n",
       "</div>"
      ],
      "text/plain": [
       "                      Model Scaler  \\\n",
       "854  RandomForestClassifier   None   \n",
       "\n",
       "                                                Params  Mean Test Score  \\\n",
       "854  {'classifier__max_depth': 20, 'classifier__min...         0.754325   \n",
       "\n",
       "     Std Test Score  \n",
       "854        0.048592  "
      ]
     },
     "execution_count": 31,
     "metadata": {},
     "output_type": "execute_result"
    }
   ],
   "source": [
    "best_model = best_results.loc[best_results['Mean Test Score'].idxmax()]\n",
    "print(\"\\nBest model overall:\")\n",
    "best_model_df=pd.DataFrame([best_model])\n",
    "best_model_df"
   ]
  },
  {
   "cell_type": "code",
   "execution_count": 32,
   "id": "bc4faa94",
   "metadata": {},
   "outputs": [
    {
     "name": "stdout",
     "output_type": "stream",
     "text": [
      "\n",
      "Best model parameters:\n",
      "{'classifier__max_depth': 20, 'classifier__min_samples_leaf': 2, 'classifier__min_samples_split': 10, 'classifier__n_estimators': 150}\n"
     ]
    }
   ],
   "source": [
    "print(\"\\nBest model parameters:\")\n",
    "best_params = best_model_df['Params'].iloc[0]\n",
    "print(best_params)"
   ]
  },
  {
   "cell_type": "markdown",
   "id": "67d97f11",
   "metadata": {},
   "source": [
    "## Part 3 - Training flow\n",
    "Use the best combination of feature engineering, model (algorithm and hyperparameters) from the experiment part and then running it on the whole train data (The model & hyper parameters & scalers are chosen dynamically)"
   ]
  },
  {
   "cell_type": "code",
   "execution_count": 33,
   "id": "93713ead",
   "metadata": {},
   "outputs": [],
   "source": [
    "#Getting the best model and scaler\n",
    "best_model_name = best_model_df['Model'].iloc[0]\n",
    "best_scaler_name = best_model_df['Scaler'].iloc[0]\n",
    "\n",
    "if best_scaler_name == 'StandardScaler':\n",
    "    best_scaler = StandardScaler()\n",
    "elif best_scaler_name == 'MinMaxScaler':\n",
    "    best_scaler = MinMaxScaler()\n",
    "else:\n",
    "    best_scaler=None\n",
    "    "
   ]
  },
  {
   "cell_type": "code",
   "execution_count": 34,
   "id": "3c461a61",
   "metadata": {},
   "outputs": [],
   "source": [
    "#removing the 'classifier__' prefix\n",
    "best_params = {k.split('__')[1]: v for k, v in best_params.items()}"
   ]
  },
  {
   "cell_type": "code",
   "execution_count": 35,
   "id": "c0fc460d",
   "metadata": {},
   "outputs": [],
   "source": [
    "#Giving to the best model his parameters\n",
    "if best_model_name == 'RandomForestClassifier':\n",
    "    best_model_instance = RandomForestClassifier(random_state=100, **best_params)\n",
    "elif best_model_name == 'GradientBoostingClassifier':\n",
    "    best_model_instance = GradientBoostingClassifier(random_state=100, **best_params)\n",
    "else:\n",
    "    best_model_instance = KNeighborsClassifier(**best_params)"
   ]
  },
  {
   "cell_type": "code",
   "execution_count": 36,
   "id": "064ad0a0",
   "metadata": {},
   "outputs": [
    {
     "name": "stdout",
     "output_type": "stream",
     "text": [
      "\n",
      "Model trained with best combination on entire training set.\n"
     ]
    }
   ],
   "source": [
    "# Creating the pipeline with the final params \n",
    "final_pipe = Pipeline([\n",
    "    ('preprocessor', ColumnTransformer(\n",
    "        transformers=[\n",
    "            ('num', Pipeline(steps=[('scaler', best_scaler)]), numeric_features),\n",
    "            ('cat', OneHotEncoder(handle_unknown='ignore'), categorical_features),\n",
    "            ('unchanged', 'passthrough', unchanged_features)\n",
    "        ]\n",
    "    )),\n",
    "    ('classifier', best_model_instance)\n",
    "])\n",
    "\n",
    "#Training on the the last time\n",
    "final_pipe.fit(X_train, y_train)\n",
    "\n",
    "print(\"\\nModel trained with best combination on entire training set.\")"
   ]
  },
  {
   "cell_type": "markdown",
   "id": "259ab902",
   "metadata": {},
   "source": [
    "## Part 4 - Apply on test and show model performance estimation"
   ]
  },
  {
   "cell_type": "markdown",
   "id": "5f787b1f",
   "metadata": {},
   "source": [
    "#### The final pipeline we created will help to predict the wanted values using the wanted feature engineering process"
   ]
  },
  {
   "cell_type": "code",
   "execution_count": 37,
   "id": "d9971aa5",
   "metadata": {},
   "outputs": [],
   "source": [
    "#Predicting on the test set\n",
    "y_pred = final_pipe.predict(X_test)"
   ]
  },
  {
   "cell_type": "markdown",
   "id": "84a214db",
   "metadata": {},
   "source": [
    "#### Printing the first 10 predicted classifications VS the real classifications"
   ]
  },
  {
   "cell_type": "code",
   "execution_count": 38,
   "id": "00d8aa96",
   "metadata": {},
   "outputs": [
    {
     "name": "stdout",
     "output_type": "stream",
     "text": [
      "Comparison of the first 10 values:\n"
     ]
    },
    {
     "data": {
      "text/html": [
       "<div>\n",
       "<style scoped>\n",
       "    .dataframe tbody tr th:only-of-type {\n",
       "        vertical-align: middle;\n",
       "    }\n",
       "\n",
       "    .dataframe tbody tr th {\n",
       "        vertical-align: top;\n",
       "    }\n",
       "\n",
       "    .dataframe thead th {\n",
       "        text-align: right;\n",
       "    }\n",
       "</style>\n",
       "<table border=\"1\" class=\"dataframe\">\n",
       "  <thead>\n",
       "    <tr style=\"text-align: right;\">\n",
       "      <th></th>\n",
       "      <th>Actual</th>\n",
       "      <th>Predicted</th>\n",
       "      <th>Correct</th>\n",
       "    </tr>\n",
       "  </thead>\n",
       "  <tbody>\n",
       "    <tr>\n",
       "      <th>0</th>\n",
       "      <td>0</td>\n",
       "      <td>0</td>\n",
       "      <td>True</td>\n",
       "    </tr>\n",
       "    <tr>\n",
       "      <th>1</th>\n",
       "      <td>0</td>\n",
       "      <td>0</td>\n",
       "      <td>True</td>\n",
       "    </tr>\n",
       "    <tr>\n",
       "      <th>2</th>\n",
       "      <td>0</td>\n",
       "      <td>0</td>\n",
       "      <td>True</td>\n",
       "    </tr>\n",
       "    <tr>\n",
       "      <th>3</th>\n",
       "      <td>0</td>\n",
       "      <td>1</td>\n",
       "      <td>False</td>\n",
       "    </tr>\n",
       "    <tr>\n",
       "      <th>4</th>\n",
       "      <td>1</td>\n",
       "      <td>0</td>\n",
       "      <td>False</td>\n",
       "    </tr>\n",
       "    <tr>\n",
       "      <th>5</th>\n",
       "      <td>1</td>\n",
       "      <td>0</td>\n",
       "      <td>False</td>\n",
       "    </tr>\n",
       "    <tr>\n",
       "      <th>6</th>\n",
       "      <td>0</td>\n",
       "      <td>0</td>\n",
       "      <td>True</td>\n",
       "    </tr>\n",
       "    <tr>\n",
       "      <th>7</th>\n",
       "      <td>0</td>\n",
       "      <td>0</td>\n",
       "      <td>True</td>\n",
       "    </tr>\n",
       "    <tr>\n",
       "      <th>8</th>\n",
       "      <td>1</td>\n",
       "      <td>1</td>\n",
       "      <td>True</td>\n",
       "    </tr>\n",
       "    <tr>\n",
       "      <th>9</th>\n",
       "      <td>0</td>\n",
       "      <td>0</td>\n",
       "      <td>True</td>\n",
       "    </tr>\n",
       "  </tbody>\n",
       "</table>\n",
       "</div>"
      ],
      "text/plain": [
       "   Actual  Predicted  Correct\n",
       "0       0          0     True\n",
       "1       0          0     True\n",
       "2       0          0     True\n",
       "3       0          1    False\n",
       "4       1          0    False\n",
       "5       1          0    False\n",
       "6       0          0     True\n",
       "7       0          0     True\n",
       "8       1          1     True\n",
       "9       0          0     True"
      ]
     },
     "execution_count": 38,
     "metadata": {},
     "output_type": "execute_result"
    }
   ],
   "source": [
    "comparison_df = pd.DataFrame({'Actual': y_test[:10],'Predicted': y_pred[:10]})\n",
    "comparison_df['Correct'] = comparison_df['Actual'] == comparison_df['Predicted']\n",
    "\n",
    "print(\"Comparison of the first 10 values:\")\n",
    "comparison_df"
   ]
  },
  {
   "cell_type": "markdown",
   "id": "2f37ca3d",
   "metadata": {},
   "source": [
    "#### Showing the model's performance report"
   ]
  },
  {
   "cell_type": "code",
   "execution_count": 39,
   "id": "d3d9c3b7",
   "metadata": {},
   "outputs": [
    {
     "name": "stdout",
     "output_type": "stream",
     "text": [
      "\n",
      "Classification report on the test set:\n",
      "              precision    recall  f1-score   support\n",
      "\n",
      "Not Survived       0.88      0.91      0.89       118\n",
      "    Survived       0.81      0.75      0.78        61\n",
      "\n",
      "    accuracy                           0.85       179\n",
      "   macro avg       0.84      0.83      0.84       179\n",
      "weighted avg       0.85      0.85      0.85       179\n",
      "\n"
     ]
    },
    {
     "data": {
      "text/plain": [
       "'              precision    recall  f1-score   support\\n\\nNot Survived       0.88      0.91      0.89       118\\n    Survived       0.81      0.75      0.78        61\\n\\n    accuracy                           0.85       179\\n   macro avg       0.84      0.83      0.84       179\\nweighted avg       0.85      0.85      0.85       179\\n'"
      ]
     },
     "execution_count": 39,
     "metadata": {},
     "output_type": "execute_result"
    }
   ],
   "source": [
    "#Evaluating the model performance on the test set\n",
    "print(\"\\nClassification report on the test set:\")\n",
    "print(classification_report(y_test, y_pred, target_names=['Not Survived', 'Survived']))\n",
    "classification_report(y_test, y_pred, target_names=['Not Survived', 'Survived'])"
   ]
  },
  {
   "cell_type": "code",
   "execution_count": 40,
   "id": "bb548d9b",
   "metadata": {},
   "outputs": [
    {
     "name": "stdout",
     "output_type": "stream",
     "text": [
      "\n",
      "Overall F1 score: 0.78\n"
     ]
    }
   ],
   "source": [
    "#Evaluating the model's general F1 score\n",
    "f1 = f1_score(y_test, y_pred)\n",
    "print(f\"\\nOverall F1 score: {f1:.2f}\")"
   ]
  },
  {
   "cell_type": "code",
   "execution_count": null,
   "id": "012b17a5",
   "metadata": {},
   "outputs": [],
   "source": []
  },
  {
   "cell_type": "code",
   "execution_count": null,
   "id": "d1e5ac7a",
   "metadata": {},
   "outputs": [],
   "source": []
  }
 ],
 "metadata": {
  "kernelspec": {
   "display_name": "Python 3 (ipykernel)",
   "language": "python",
   "name": "python3"
  },
  "language_info": {
   "codemirror_mode": {
    "name": "ipython",
    "version": 3
   },
   "file_extension": ".py",
   "mimetype": "text/x-python",
   "name": "python",
   "nbconvert_exporter": "python",
   "pygments_lexer": "ipython3",
   "version": "3.11.5"
  }
 },
 "nbformat": 4,
 "nbformat_minor": 5
}
